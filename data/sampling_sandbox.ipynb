{
 "cells": [
  {
   "cell_type": "code",
   "execution_count": 1,
   "id": "0abe5335-30a9-4962-9876-5c2a97ff7d4c",
   "metadata": {},
   "outputs": [
    {
     "name": "stderr",
     "output_type": "stream",
     "text": [
      "2022-11-21 14:50:46.177359: W tensorflow/stream_executor/platform/default/dso_loader.cc:64] Could not load dynamic library 'libcusolver.so.11'; dlerror: libcusolver.so.11: cannot open shared object file: No such file or directory; LD_LIBRARY_PATH: /opt/apps/software/system/CUDA/11.0.2/nvvm/lib64:/opt/apps/software/system/CUDA/11.0.2/extras/CUPTI/lib64:/opt/apps/software/system/CUDA/11.0.2/lib:/opt/apps/software/lib/slurm-drmaa/1.1.3/lib:/opt/apps/software/lib/libevent/2.1.8/lib:/opt/apps/software/devel/PCRE/8.41-GCCcore-7.3.0/lib:/opt/apps/software/lang/Perl/5.28.0-GCCcore-7.3.0/lib:/opt/apps/software/tools/expat/2.2.5-GCCcore-7.3.0/lib:/opt/apps/software/lang/Python/2.7.15-foss-2018b/lib/python2.7/site-packages/numpy-1.14.5-py2.7-linux-x86_64.egg/numpy/core/lib:/opt/apps/software/lang/Python/2.7.15-foss-2018b/lib:/opt/apps/software/lib/libffi/3.2.1-GCCcore-7.3.0/lib64:/opt/apps/software/lib/libffi/3.2.1-GCCcore-7.3.0/lib:/opt/apps/software/math/GMP/6.1.2-GCCcore-7.3.0/lib:/opt/apps/software/devel/SQLite/3.24.0-GCCcore-7.3.0/lib:/opt/apps/software/lang/Tcl/8.6.8-GCCcore-7.3.0/lib:/opt/apps/software/lib/libreadline/7.0-GCCcore-7.3.0/lib:/opt/apps/software/devel/ncurses/6.1-GCCcore-7.3.0/lib:/opt/apps/software/tools/bzip2/1.0.6-GCCcore-7.3.0/lib:/opt/apps/software/numlib/ScaLAPACK/2.0.2-gompi-2018b-OpenBLAS-0.3.1/lib:/opt/apps/software/numlib/FFTW/3.3.8-gompi-2018b/lib:/opt/apps/software/numlib/OpenBLAS/0.3.1-GCC-7.3.0-2.30/lib:/opt/apps/software/system/hwloc/1.11.10-GCCcore-7.3.0/lib:/opt/apps/software/system/libpciaccess/0.14-GCCcore-7.3.0/lib:/opt/apps/software/lib/libxml2/2.9.8-GCCcore-7.3.0/lib:/opt/apps/software/tools/XZ/5.2.4-GCCcore-7.3.0/lib:/opt/apps/software/tools/numactl/2.0.11-GCCcore-7.3.0/lib:/opt/apps/software/lib/zlib/1.2.11-GCCcore-7.3.0/lib:/opt/apps/software/tools/binutils/2.30-GCCcore-7.3.0/lib:/opt/apps/software/compiler/GCCcore/7.3.0/lib/gcc/x86_64-pc-linux-gnu/7.3.0:/opt/apps/software/compiler/GCCcore/7.3.0/lib64:/opt/apps/software/compiler/GCCcore/7.3.0/lib:/opt/apps/software/tools/zsh/5.7.1/lib\n",
      "2022-11-21 14:50:47.225577: W tensorflow/stream_executor/platform/default/dso_loader.cc:64] Could not load dynamic library 'libcudnn.so.8'; dlerror: libcudnn.so.8: cannot open shared object file: No such file or directory; LD_LIBRARY_PATH: /opt/apps/software/system/CUDA/11.0.2/nvvm/lib64:/opt/apps/software/system/CUDA/11.0.2/extras/CUPTI/lib64:/opt/apps/software/system/CUDA/11.0.2/lib:/opt/apps/software/lib/slurm-drmaa/1.1.3/lib:/opt/apps/software/lib/libevent/2.1.8/lib:/opt/apps/software/devel/PCRE/8.41-GCCcore-7.3.0/lib:/opt/apps/software/lang/Perl/5.28.0-GCCcore-7.3.0/lib:/opt/apps/software/tools/expat/2.2.5-GCCcore-7.3.0/lib:/opt/apps/software/lang/Python/2.7.15-foss-2018b/lib/python2.7/site-packages/numpy-1.14.5-py2.7-linux-x86_64.egg/numpy/core/lib:/opt/apps/software/lang/Python/2.7.15-foss-2018b/lib:/opt/apps/software/lib/libffi/3.2.1-GCCcore-7.3.0/lib64:/opt/apps/software/lib/libffi/3.2.1-GCCcore-7.3.0/lib:/opt/apps/software/math/GMP/6.1.2-GCCcore-7.3.0/lib:/opt/apps/software/devel/SQLite/3.24.0-GCCcore-7.3.0/lib:/opt/apps/software/lang/Tcl/8.6.8-GCCcore-7.3.0/lib:/opt/apps/software/lib/libreadline/7.0-GCCcore-7.3.0/lib:/opt/apps/software/devel/ncurses/6.1-GCCcore-7.3.0/lib:/opt/apps/software/tools/bzip2/1.0.6-GCCcore-7.3.0/lib:/opt/apps/software/numlib/ScaLAPACK/2.0.2-gompi-2018b-OpenBLAS-0.3.1/lib:/opt/apps/software/numlib/FFTW/3.3.8-gompi-2018b/lib:/opt/apps/software/numlib/OpenBLAS/0.3.1-GCC-7.3.0-2.30/lib:/opt/apps/software/system/hwloc/1.11.10-GCCcore-7.3.0/lib:/opt/apps/software/system/libpciaccess/0.14-GCCcore-7.3.0/lib:/opt/apps/software/lib/libxml2/2.9.8-GCCcore-7.3.0/lib:/opt/apps/software/tools/XZ/5.2.4-GCCcore-7.3.0/lib:/opt/apps/software/tools/numactl/2.0.11-GCCcore-7.3.0/lib:/opt/apps/software/lib/zlib/1.2.11-GCCcore-7.3.0/lib:/opt/apps/software/tools/binutils/2.30-GCCcore-7.3.0/lib:/opt/apps/software/compiler/GCCcore/7.3.0/lib/gcc/x86_64-pc-linux-gnu/7.3.0:/opt/apps/software/compiler/GCCcore/7.3.0/lib64:/opt/apps/software/compiler/GCCcore/7.3.0/lib:/opt/apps/software/tools/zsh/5.7.1/lib\n",
      "2022-11-21 14:50:47.225609: W tensorflow/core/common_runtime/gpu/gpu_device.cc:1850] Cannot dlopen some GPU libraries. Please make sure the missing libraries mentioned above are installed properly if you would like to use GPU. Follow the guide at https://www.tensorflow.org/install/gpu for how to download and setup the required libraries for your platform.\n",
      "Skipping registering GPU devices...\n"
     ]
    },
    {
     "data": {
      "text/plain": [
       "[PhysicalDevice(name='/physical_device:CPU:0', device_type='CPU')]"
      ]
     },
     "execution_count": 1,
     "metadata": {},
     "output_type": "execute_result"
    }
   ],
   "source": [
    "# Imports\n",
    "import numpy as np\n",
    "import tensorflow as tf\n",
    "import tensorflow_probability as tfp\n",
    "import pickle as pkl\n",
    "import pandas as pd\n",
    "import matplotlib.pyplot as plt\n",
    "import os\n",
    "import sys\n",
    "\n",
    "tfd = tfp.distributions\n",
    "tfm = tf.math\n",
    "tf.config.list_physical_devices(device_type=None)"
   ]
  },
  {
   "cell_type": "code",
   "execution_count": 2,
   "id": "8458e773-de31-42c4-b3bf-b6b43acde775",
   "metadata": {},
   "outputs": [],
   "source": [
    "# Configure paths\n",
    "CURRENT_PATH = os.getcwd()\n",
    "DATA_PATH = os.path.abspath(os.path.join(CURRENT_PATH, \"..\", \"data\"))\n",
    "OUTPUTS_PATH = os.path.abspath(os.path.join(CURRENT_PATH, \"..\", \"outputs\"))"
   ]
  },
  {
   "cell_type": "code",
   "execution_count": 3,
   "id": "308816ce-c15f-4818-a2ca-65b9c417cfb1",
   "metadata": {},
   "outputs": [],
   "source": [
    "# Load data\n",
    "with open(DATA_PATH + '/f_boundary.pkl', 'rb') as file:\n",
    "    f_boundary = pkl.load(file)\n",
    "    \n",
    "with open(DATA_PATH + '/p.pkl', 'rb') as file:\n",
    "    p = pkl.load(file)\n",
    "    \n",
    "with open(DATA_PATH + '/T.pkl', 'rb') as file:\n",
    "    T = pkl.load(file)\n",
    "    \n",
    "with open(DATA_PATH + '/r.pkl', 'rb') as file:\n",
    "    r = pkl.load(file)\n",
    "    \n",
    "with open(DATA_PATH + '/P_predict.pkl', 'rb') as file:\n",
    "    P_predict = pkl.load(file)\n",
    "    \n",
    "# Get upper and lower bounds\n",
    "lb = np.log(np.array([p[0], r[0]], dtype='float32'))\n",
    "ub = np.log(np.array([p[-1], r[-1]], dtype='float32'))\n",
    "f_bound = np.array([-34.54346331847909, 6.466899920699378], dtype='float32')\n",
    "size = len(f_boundary[:, 0])"
   ]
  },
  {
   "cell_type": "code",
   "execution_count": 4,
   "id": "74350ff4-f3c1-438f-8196-1a6911bf369b",
   "metadata": {},
   "outputs": [],
   "source": [
    "batchsize = 2048\n",
    "boundary_batchsize = 512\n",
    "n_samples = 20000"
   ]
  },
  {
   "cell_type": "markdown",
   "id": "9c4ba477-e17b-42c0-88cb-1a249a6a7151",
   "metadata": {},
   "source": [
    "# Sampling"
   ]
  },
  {
   "cell_type": "code",
   "execution_count": 5,
   "id": "f395e521-e3a9-44da-8458-a0a5f6e5567e",
   "metadata": {},
   "outputs": [
    {
     "name": "stderr",
     "output_type": "stream",
     "text": [
      "2022-11-21 14:51:11.799356: I tensorflow/core/platform/cpu_feature_guard.cc:193] This TensorFlow binary is optimized with oneAPI Deep Neural Network Library (oneDNN) to use the following CPU instructions in performance-critical operations:  AVX2 AVX512F FMA\n",
      "To enable them in other operations, rebuild TensorFlow with the appropriate compiler flags.\n"
     ]
    }
   ],
   "source": [
    "# Sample p and r according to a beta distribution between upper and lower bounds\n",
    "beta_dist = tfd.Beta(3, 1)\n",
    "uniform_dist = tfd.Uniform(0, 1)\n",
    "\n",
    "p = (uniform_dist.sample((batchsize, 1))*tfm.abs(ub[0] - lb[0])) + lb[0]\n",
    "p = np.exp(p)\n",
    "r = (uniform_dist.sample((batchsize, 1))*tfm.abs(np.exp(ub[1]) - np.exp(lb[1]))) + np.exp(lb[1])\n",
    "\n",
    "p = pd.DataFrame(p[:, 0], columns=['p'])\n",
    "r = pd.DataFrame(r[:, 0]/150e6, columns=['r'])"
   ]
  },
  {
   "cell_type": "code",
   "execution_count": 6,
   "id": "9aaead7f-af54-4641-812c-d38f13fb8018",
   "metadata": {},
   "outputs": [
    {
     "data": {
      "text/plain": [
       "array([<AxesSubplot:title={'center':'r'}>], dtype=object)"
      ]
     },
     "execution_count": 6,
     "metadata": {},
     "output_type": "execute_result"
    },
    {
     "data": {
      "image/png": "[encoded data removed]",
      "text/plain": [
       "<Figure size 500x800 with 2 Axes>"
      ]
     },
     "metadata": {},
     "output_type": "display_data"
    }
   ],
   "source": [
    "# Visualize\n",
    "fig, axes = plt.subplots(2, figsize=(5, 8))\n",
    "axes[0].set_title('p')\n",
    "p.hist(ax=axes[0], bins=20)\n",
    "axes[0].set_xlim(4.332436e-02, 1.00093756e+03)\n",
    "axes[0].set_ylim(0, 100)\n",
    "\n",
    "axes[1].set_title('r')\n",
    "r.hist(ax=axes[1], bins=20)\n",
    "# axes[1].set_xlim(5.9999988e+07, 1.80000010e+10)"
   ]
  },
  {
   "cell_type": "code",
   "execution_count": null,
   "id": "a8e5074c-c22a-43b6-a541-77f9c88e0f68",
   "metadata": {},
   "outputs": [],
   "source": []
  },
  {
   "cell_type": "code",
   "execution_count": 4,
   "id": "3e0e9379-a1fc-4c11-b21f-b429cd637ffe",
   "metadata": {},
   "outputs": [],
   "source": [
    "# Imports\n",
    "import numpy as np\n",
    "import tensorflow as tf\n",
    "import tensorflow_probability as tfp\n",
    "import pickle as pkl\n",
    "import pandas as pd\n",
    "import matplotlib.pyplot as plt\n",
    "import os\n",
    "import sys\n",
    "\n",
    "tfd = tfp.distributions\n",
    "tfm = tf.math\n",
    "tf.config.list_physical_devices(device_type=None)\n",
    "\n",
    "CURRENT_PATH = os.getcwd()\n",
    "DATA_PATH = os.path.abspath(os.path.join(CURRENT_PATH, \"data\"))\n",
    "\n",
    "# Constants  \n",
    "m = 0.938 # GeV/c^2\n",
    "gamma = -3 # Between -2 and -3\n",
    "size = 512 # size of r, T, p, and f_boundary\n",
    "au = 150e6 # 150e6 m/AU\n",
    "r_limits = [0.4, 120] \n",
    "T_limits = [0.001, 1000]\n",
    "\n",
    "# Create boundary data\n",
    "T = np.logspace(np.log10(T_limits[0]), np.log10(T_limits[1]), size).flatten()[:, None]\n",
    "p = (np.sqrt((T+m)**2-m**2)).flatten()[:,None] # GeV/c\n",
    "r = np.logspace(np.log10(r_limits[0]*au), np.log10(r_limits[1]*au), size).flatten()[:, None] # km\n",
    "f_boundary = ((T + m)**gamma)/(p**2) # particles/(m^3 (GeV/c)^3)\n",
    "\n",
    "# Create J\n",
    "J = np.zeros((size, size))\n",
    "J_boundary = (f_boundary*(p**2))[:, 0]\n",
    "\n",
    "# Define phi\n",
    "def phi_func(r):\n",
    "    k_0 = 1e11\n",
    "    func = np.log((120*150e6)/r)*((150e6*400)/(3*k_0))\n",
    "    return func\n",
    "\n",
    "# For each r, get phi\n",
    "for i in range(size):\n",
    "    phi = phi_func(r[i])\n",
    "    \n",
    "    # for each T, calculate J[r, T]\n",
    "    for j in range(size):\n",
    "        where_phi = np.argmin(np.abs(T[:, 0] - (T[j, 0] + phi)))\n",
    "        J[i, j] = ((T[j, 0]*(T[j, 0]+2*m))/((T[j, 0]+phi)*(T[j, 0]+phi+2*m))) * J_boundary[where_phi]\n",
    "\n",
    "# Scale f_boundary\n",
    "# f_boundary = np.log(f_boundary)"
   ]
  },
  {
   "cell_type": "code",
   "execution_count": 8,
   "id": "26862cca-646c-42dc-aa9f-60d9f28f1832",
   "metadata": {},
   "outputs": [
    {
     "name": "stdout",
     "output_type": "stream",
     "text": [
      "9.971912708226599e-10 1.207822799167287\n",
      "9.953240429181456e-16 643.4857747295022\n",
      "-34.54346331847909 6.466899920699378\n"
     ]
    }
   ],
   "source": [
    "print(np.min(f_boundary*(p**2)), np.max(f_boundary*(p**2)))\n",
    "print(np.min(f_boundary), np.max(f_boundary))\n",
    "f_boundary = np.log(f_boundary)\n",
    "print(np.min(f_boundary), np.max(f_boundary))"
   ]
  },
  {
   "cell_type": "code",
   "execution_count": null,
   "id": "0b2c6eaa-17bc-426a-85bc-7d3fb8ae06f5",
   "metadata": {},
   "outputs": [],
   "source": []
  }
 ],
 "metadata": {
  "kernelspec": {
   "display_name": "pinns",
   "language": "python",
   "name": "pinns"
  },
  "language_info": {
   "codemirror_mode": {
    "name": "ipython",
    "version": 3
   },
   "file_extension": ".py",
   "mimetype": "text/x-python",
   "name": "python",
   "nbconvert_exporter": "python",
   "pygments_lexer": "ipython3",
   "version": "3.10.5"
  }
 },
 "nbformat": 4,
 "nbformat_minor": 5
}
