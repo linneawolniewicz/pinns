{
 "cells": [
  {
   "cell_type": "code",
   "execution_count": 5,
   "id": "0abe5335-30a9-4962-9876-5c2a97ff7d4c",
   "metadata": {},
   "outputs": [
    {
     "data": {
      "text/plain": [
       "[PhysicalDevice(name='/physical_device:CPU:0', device_type='CPU')]"
      ]
     },
     "execution_count": 5,
     "metadata": {},
     "output_type": "execute_result"
    }
   ],
   "source": [
    "# Imports\n",
    "import numpy as np\n",
    "import tensorflow as tf\n",
    "import tensorflow_probability as tfp\n",
    "import pickle as pkl\n",
    "import pandas as pd\n",
    "import matplotlib.pyplot as plt\n",
    "import os\n",
    "import sys\n",
    "\n",
    "tfd = tfp.distributions\n",
    "tfm = tf.math\n",
    "tf.config.list_physical_devices(device_type=None)"
   ]
  },
  {
   "cell_type": "code",
   "execution_count": 6,
   "id": "8458e773-de31-42c4-b3bf-b6b43acde775",
   "metadata": {},
   "outputs": [],
   "source": [
    "# Configure paths\n",
    "CURRENT_PATH = os.getcwd()\n",
    "DATA_PATH = os.path.abspath(os.path.join(CURRENT_PATH, \"..\", \"data\"))\n",
    "OUTPUTS_PATH = os.path.abspath(os.path.join(CURRENT_PATH, \"..\", \"outputs\"))"
   ]
  },
  {
   "cell_type": "code",
   "execution_count": 28,
   "id": "308816ce-c15f-4818-a2ca-65b9c417cfb1",
   "metadata": {},
   "outputs": [],
   "source": [
    "# Load data\n",
    "with open(DATA_PATH + '/f_boundary.pkl', 'rb') as file:\n",
    "    f_boundary = pkl.load(file)\n",
    "    \n",
    "with open(DATA_PATH + '/p.pkl', 'rb') as file:\n",
    "    p = pkl.load(file)\n",
    "    \n",
    "with open(DATA_PATH + '/T.pkl', 'rb') as file:\n",
    "    T = pkl.load(file)\n",
    "    \n",
    "with open(DATA_PATH + '/r.pkl', 'rb') as file:\n",
    "    r = pkl.load(file)\n",
    "    \n",
    "with open(DATA_PATH + '/P_predict.pkl', 'rb') as file:\n",
    "    P_predict = pkl.load(file)\n",
    "    \n",
    "# Get upper and lower bounds\n",
    "lb = np.log(np.array([p[0], r[0]], dtype='float32'))\n",
    "ub = np.log(np.array([p[-1], r[-1]], dtype='float32'))\n",
    "f_bound = np.array([-34.54346331847909, 6.466899920699378], dtype='float32')\n",
    "size = len(f_boundary[:, 0])"
   ]
  },
  {
   "cell_type": "code",
   "execution_count": 29,
   "id": "74350ff4-f3c1-438f-8196-1a6911bf369b",
   "metadata": {},
   "outputs": [],
   "source": [
    "batchsize = 1032\n",
    "boundary_batchsize = 512\n",
    "n_samples = 20000"
   ]
  },
  {
   "cell_type": "markdown",
   "id": "9c4ba477-e17b-42c0-88cb-1a249a6a7151",
   "metadata": {},
   "source": [
    "# Sampling"
   ]
  },
  {
   "cell_type": "code",
   "execution_count": 38,
   "id": "f395e521-e3a9-44da-8458-a0a5f6e5567e",
   "metadata": {},
   "outputs": [],
   "source": [
    "# Sample p and r according to a beta distribution between upper and lower bounds\n",
    "beta_dist = tfd.Beta(3, 1)\n",
    "uniform_dist = tfd.Uniform(0, 1)\n",
    "\n",
    "p = (uniform_dist.sample((batchsize, 1))*tfm.abs(ub[0] - lb[0])) + lb[0]\n",
    "r = (beta_dist.sample((batchsize, 1))*tfm.abs(np.exp(ub[1]) - np.exp(lb[1]))) + np.exp(lb[1])\n",
    "\n",
    "p = np.exp(p)\n",
    "\n",
    "p = pd.DataFrame(p[:, 0], columns=['p'])\n",
    "r = pd.DataFrame(r[:, 0]/150e6, columns=['r'])"
   ]
  },
  {
   "cell_type": "code",
   "execution_count": 40,
   "id": "9aaead7f-af54-4641-812c-d38f13fb8018",
   "metadata": {},
   "outputs": [
    {
     "data": {
      "text/plain": [
       "array([<AxesSubplot:title={'center':'r'}>], dtype=object)"
      ]
     },
     "execution_count": 40,
     "metadata": {},
     "output_type": "execute_result"
    },
    {
     "data": {
      "image/png": "[encoded data removed]",
      "text/plain": [
       "<Figure size 500x800 with 2 Axes>"
      ]
     },
     "metadata": {},
     "output_type": "display_data"
    }
   ],
   "source": [
    "# Visualize\n",
    "fig, axes = plt.subplots(2, figsize=(5, 8))\n",
    "axes[0].set_title('p')\n",
    "p.hist(ax=axes[0], bins=20)\n",
    "axes[0].set_xlim(4.332436e-02, 1.00093756e+03)\n",
    "axes[0].set_ylim(0, 100)\n",
    "\n",
    "axes[1].set_title('r')\n",
    "r.hist(ax=axes[1], bins=20)\n",
    "# axes[1].set_xlim(5.9999988e+07, 1.80000010e+10)"
   ]
  },
  {
   "cell_type": "code",
   "execution_count": null,
   "id": "a8e5074c-c22a-43b6-a541-77f9c88e0f68",
   "metadata": {},
   "outputs": [],
   "source": []
  }
 ],
 "metadata": {
  "kernelspec": {
   "display_name": "pinns",
   "language": "python",
   "name": "pinns"
  },
  "language_info": {
   "codemirror_mode": {
    "name": "ipython",
    "version": 3
   },
   "file_extension": ".py",
   "mimetype": "text/x-python",
   "name": "python",
   "nbconvert_exporter": "python",
   "pygments_lexer": "ipython3",
   "version": "3.10.5"
  }
 },
 "nbformat": 4,
 "nbformat_minor": 5
}
