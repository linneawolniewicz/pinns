{
 "cells": [
  {
   "cell_type": "code",
   "execution_count": 19,
   "id": "fa8a89c1-152c-4167-8876-3157de5d58e1",
   "metadata": {},
   "outputs": [],
   "source": [
    "# Imports\n",
    "import numpy as np\n",
    "import pandas as pd"
   ]
  },
  {
   "cell_type": "code",
   "execution_count": 20,
   "id": "5187d10f-bb9a-4c79-88ef-a0a4b50e2239",
   "metadata": {},
   "outputs": [],
   "source": [
    "# Read the outputs\n",
    "n_run = 100\n",
    "df = pd.read_csv('outputs/sherpa_' + str(n_run) + '.csv')"
   ]
  },
  {
   "cell_type": "code",
   "execution_count": 25,
   "id": "fecebb07-e510-4358-83f3-a706e97c7c3a",
   "metadata": {},
   "outputs": [
    {
     "name": "stdout",
     "output_type": "stream",
     "text": [
      "    Unnamed: 0  trial_id  num_layers  num_hidden_units      lr  batchsize  \\\n",
      "0            0         0           3               257  0.0300        256   \n",
      "1            0         1           4                73  0.0003        256   \n",
      "2            0         2           2                92  0.0300        256   \n",
      "3            0         3           9               104  0.0003        256   \n",
      "4            0         4           9               128  0.0003        256   \n",
      "5            0         5           4               107  0.0003        256   \n",
      "6            0         6           7                79  0.0030        256   \n",
      "7            0         7           7               244  0.0003        256   \n",
      "8            0         8           8               166  0.0003        256   \n",
      "9            0         9           7               103  0.0003        256   \n",
      "10           0        10           3                42  0.0030        256   \n",
      "11           0        11           2                38  0.0030        256   \n",
      "12           0        12           3               238  0.0300        256   \n",
      "13           0        13           4                62  0.0003        256   \n",
      "14           0        14           8               172  0.0030        256   \n",
      "15           0        15           9               171  0.0003        256   \n",
      "16           0        16           3                27  0.0030        256   \n",
      "17           0        17           4               147  0.0300        256   \n",
      "18           0        18           3               280  0.0300        256   \n",
      "19           0        19           4               147  0.0300        256   \n",
      "21           0        21           7               148  0.0030        256   \n",
      "22           0        22           9                53  0.0300        256   \n",
      "23           0        23           2                36  0.0003        256   \n",
      "24           0        24           6                59  0.0030        256   \n",
      "25           0        25           9                81  0.0030        256   \n",
      "27           0        27           4                45  0.0300        256   \n",
      "28           0        28           9                58  0.0003        256   \n",
      "29           0        29           8               226  0.0030        256   \n",
      "30           0        30           2               249  0.0030        256   \n",
      "\n",
      "    boundary_batchsize  weight_change  lr_decay  alpha  patience  epochs  \\\n",
      "0                  512            0.9       0.9    0.9         3     400   \n",
      "1                  512            0.9       0.9    0.9         3     400   \n",
      "2                  512            0.9       0.9    0.9         3     400   \n",
      "3                  512            0.9       0.9    0.9         3     400   \n",
      "4                  512            0.9       0.9    0.9         3     400   \n",
      "5                  512            0.9       0.9    0.9         3     400   \n",
      "6                  512            0.9       0.9    0.9         3     400   \n",
      "7                  512            0.9       0.9    0.9         3     400   \n",
      "8                  512            0.9       0.9    0.9         3     400   \n",
      "9                  512            0.9       0.9    0.9         3     400   \n",
      "10                 512            0.9       0.9    0.9         3     400   \n",
      "11                 512            0.9       0.9    0.9         3     400   \n",
      "12                 512            0.9       0.9    0.9         3     400   \n",
      "13                 512            0.9       0.9    0.9         3     400   \n",
      "14                 512            0.9       0.9    0.9         3     400   \n",
      "15                 512            0.9       0.9    0.9         3     400   \n",
      "16                 512            0.9       0.9    0.9         3     400   \n",
      "17                 512            0.9       0.9    0.9         3     400   \n",
      "18                 512            0.9       0.9    0.9         3     400   \n",
      "19                 512            0.9       0.9    0.9         3     400   \n",
      "21                 512            0.9       0.9    0.9         3     400   \n",
      "22                 512            0.9       0.9    0.9         3     400   \n",
      "23                 512            0.9       0.9    0.9         3     400   \n",
      "24                 512            0.9       0.9    0.9         3     400   \n",
      "25                 512            0.9       0.9    0.9         3     400   \n",
      "27                 512            0.9       0.9    0.9         3     400   \n",
      "28                 512            0.9       0.9    0.9         3     400   \n",
      "29                 512            0.9       0.9    0.9         3     400   \n",
      "30                 512            0.9       0.9    0.9         3     400   \n",
      "\n",
      "   activation  final_boundary_loss  final_pinn_loss  \n",
      "0        selu            17.942989         0.049156  \n",
      "1        selu             6.767804         0.404049  \n",
      "2        selu             1.407410         0.009942  \n",
      "3        selu             8.131550         0.178864  \n",
      "4        selu             6.923935         0.150029  \n",
      "5        selu             3.701132         0.213744  \n",
      "6        selu             2.811084         0.056813  \n",
      "7        selu             1.125254         0.075001  \n",
      "8        selu             4.375179         0.112139  \n",
      "9        selu             5.852937         0.267645  \n",
      "10       selu             6.492632         0.250473  \n",
      "11       selu             7.251118         0.200203  \n",
      "12       selu            27.843173         0.123205  \n",
      "13       selu             7.651805         0.384732  \n",
      "14       selu            14.239807         0.102068  \n",
      "15       selu             2.097933         0.097906  \n",
      "16       selu             7.715974         0.308221  \n",
      "17       selu             8.517675         0.009524  \n",
      "18       selu            21.422917         0.073660  \n",
      "19       selu             6.942555         0.022080  \n",
      "21       selu             5.961584         0.065899  \n",
      "22       selu            13.173976         0.027624  \n",
      "23       selu             3.117038         0.355596  \n",
      "24       selu             3.856096         0.074831  \n",
      "25       selu             3.769119         0.040974  \n",
      "27       selu             4.659007         0.011453  \n",
      "28       selu            11.860440         0.352449  \n",
      "29       selu             6.462932         0.043113  \n",
      "30       selu             2.967253         0.109518  \n"
     ]
    }
   ],
   "source": [
    "df_good = df[df['final_pinn_loss'] != 0.0]\n",
    "print(df_good)"
   ]
  },
  {
   "cell_type": "code",
   "execution_count": 28,
   "id": "0e8b9d61-00eb-4a76-afa4-0ad48a32d899",
   "metadata": {},
   "outputs": [
    {
     "name": "stdout",
     "output_type": "stream",
     "text": [
      "17\n",
      "7\n"
     ]
    }
   ],
   "source": [
    "print(df_good['final_pinn_loss'].idxmin())\n",
    "print(df_good['final_boundary_loss'].idxmin())"
   ]
  },
  {
   "cell_type": "code",
   "execution_count": null,
   "id": "71738378-15c8-475e-bace-7e80f24627f4",
   "metadata": {},
   "outputs": [],
   "source": []
  }
 ],
 "metadata": {
  "kernelspec": {
   "display_name": "pinns",
   "language": "python",
   "name": "pinns"
  },
  "language_info": {
   "codemirror_mode": {
    "name": "ipython",
    "version": 3
   },
   "file_extension": ".py",
   "mimetype": "text/x-python",
   "name": "python",
   "nbconvert_exporter": "python",
   "pygments_lexer": "ipython3",
   "version": "3.10.5"
  }
 },
 "nbformat": 4,
 "nbformat_minor": 5
}
