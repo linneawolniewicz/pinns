{
 "cells": [
  {
   "cell_type": "code",
   "execution_count": 1,
   "metadata": {},
   "outputs": [],
   "source": [
    "# Imports\n",
    "import matplotlib as mpl\n",
    "import matplotlib.pyplot as plt\n",
    "import matplotlib.animation as animation\n",
    "import numpy as np\n",
    "import pickle as pkl\n",
    "from matplotlib.ticker import (LogLocator)\n",
    "from IPython.display import HTML\n",
    "import os\n",
    "mpl.rcParams.update({'font.size': 14})\n",
    "\n",
    "CURRENT_PATH = os.getcwd()\n",
    "DATA_PATH = os.path.abspath(os.path.join(CURRENT_PATH, \"..\", \"..\", \"data\"))"
   ]
  },
  {
   "cell_type": "code",
   "execution_count": 2,
   "metadata": {},
   "outputs": [],
   "source": [
    "filename = '_FullRAdamBeta1Sigmoid'\n",
    "trial_id = 16\n",
    "n_run = 1000\n",
    "size = 1024\n",
    "\n",
    "# Load PINN outputs\n",
    "with open('./pickles/pinn_loss_sherpa_' + str(n_run) + '_trial_id_' + str(trial_id) + filename + '.pkl', 'rb') as file:\n",
    "    pinn_loss = pkl.load(file)\n",
    "    \n",
    "with open('pickles/boundary_loss_sherpa_' + str(n_run) + '_trial_id_' + str(trial_id) + filename + '.pkl', 'rb') as file:\n",
    "    boundary_loss = pkl.load(file)\n",
    "    \n",
    "with open('pickles/predictions_sherpa_' + str(n_run) + '_trial_id_' + str(trial_id) + filename + '.pkl', 'rb') as file:\n",
    "    predictions = pkl.load(file)\n",
    "    \n",
    "with open(DATA_PATH + '/f_boundary_' + str(size) + '.pkl', 'rb') as file:\n",
    "    f_boundary = pkl.load(file)\n",
    "\n",
    "with open(DATA_PATH + '/p_' + str(size) + '.pkl', 'rb') as file:\n",
    "    p = pkl.load(file)\n",
    "\n",
    "with open(DATA_PATH + '/T_' + str(size) + '.pkl', 'rb') as file:\n",
    "    T = pkl.load(file)\n",
    "\n",
    "with open(DATA_PATH + '/r_' + str(size) + '.pkl', 'rb') as file:\n",
    "    r = pkl.load(file)\n",
    "\n",
    "with open(DATA_PATH + '/J_' + str(size) + '.pkl', 'rb') as file:\n",
    "    J = pkl.load(file)"
   ]
  },
  {
   "cell_type": "code",
   "execution_count": null,
   "metadata": {},
   "outputs": [],
   "source": [
    "# If many epochs, can only exponentiate some of the predictions\n",
    "# predictions = predictions[:, :, -100:]\n",
    "\n",
    "# Scale prediction and f_boundary back to real space\n",
    "f_bound = np.array([-34.54346331847909, 6.466899920699378], dtype='float32')\n",
    "f_boundary = np.exp((f_boundary*np.abs(f_bound[1]-f_bound[0])) + f_bound[0])\n",
    "predictions = np.exp((predictions*np.abs(f_bound[1]-f_bound[0])) + f_bound[0])\n",
    "\n",
    "# Get properties\n",
    "size = int(np.sqrt(predictions.shape[0]))\n",
    "epochs = int(predictions.shape[2])\n",
    "\n",
    "# Check data\n",
    "print(f'F_boundary shape: {f_boundary.shape}, min: {np.min(f_boundary)}, max: {np.max(f_boundary)}')\n",
    "print(f'Predictions shape: {predictions.shape}, min: {np.min(predictions[:, :, -1].reshape((size, size))[-1, :-1])}, max: {np.max(predictions[:, :, -1].reshape((size, size))[-1, :-1])}')\n",
    "print(\"Mean absolute difference in final epoch: \", np.mean(np.abs(predictions[:, :, -1].reshape((size, size))[-1, :] - f_boundary[:, 0])))"
   ]
  },
  {
   "cell_type": "code",
   "execution_count": null,
   "metadata": {},
   "outputs": [],
   "source": [
    "# Plot f(r, p)\n",
    "fig, ax = plt.subplots(figsize=(10, 5))\n",
    "\n",
    "ax.scatter(p, f_boundary, label=f'Boundary points (r={r[-1, 0]/150e6:.0f} au)', s=2, c='gray')\n",
    "ax.loglog(p[:-1], np.expand_dims(predictions[:, :, -1].reshape((size, size))[-1, :-1], axis=1), label=f'Predicted solution (r={r[-1, 0]/150e6:.0f} au)', ls='--', c='black')\n",
    "ax.loglog(p[:-1], np.expand_dims(predictions[:, :, -1].reshape((size, size))[-2, :-1], axis=1), label=f'Predicted solution (r={r[-2, 0]/150e6:.0f} au)', ls='--', c='deeppink')\n",
    "ax.loglog(p[:-1], np.expand_dims(predictions[:, :, -1].reshape((size, size))[500, :-1], axis=1), label=f'Predicted solution (r={r[500, 0]/150e6:.0f} au)', ls='--', c='green')\n",
    "ax.loglog(p[:-1], np.expand_dims(predictions[:, :, -1].reshape((size, size))[0, :-1], axis=1), label=f'Predicted solution (r={r[0, 0]/150e6:.1f} au)', ls='--', c='mediumblue')\n",
    "\n",
    "ax.set_xlabel(\"Momentum (GeV/c)\")\n",
    "ax.set_ylabel(\"Particle flux $f(r, p)$\")\n",
    "ax.legend(prop={'size': 12})"
   ]
  },
  {
   "cell_type": "code",
   "execution_count": null,
   "metadata": {},
   "outputs": [],
   "source": [
    "# Plot J(r, T)\n",
    "fig, ax = plt.subplots(figsize=(10, 5))\n",
    "\n",
    "ax.loglog(T, J[-1, :], label=f'True solution (r={r[-1, 0]/150e6:.0f} au)', lw='3', c='gray')\n",
    "ax.loglog(T, J[-2, :], label=f'True solution (r={r[-2, 0]/150e6:.0f} au)', lw='3', c='lightpink')\n",
    "ax.loglog(T, J[500, :], label=f'True solution (r={r[500, 0]/150e6:.0f} au)', lw='3', c='lightgreen')\n",
    "ax.loglog(T, J[0, :], label=f'True solution (r={r[0, 0]/150e6:.1f} au)', lw='3', c='dodgerblue')\n",
    "ax.loglog(T[:-1], np.expand_dims(predictions[:, :, -1].reshape((size, size))[-1, :-1], axis=1)*(p[:-1]**2), label=f'Predicted solution (r={r[-1, 0]/150e6:.0f} au)', ls='--', c='black')\n",
    "ax.loglog(T[:-1], np.expand_dims(predictions[:, :, -1].reshape((size, size))[-2, :-1], axis=1)*(p[:-1]**2), label=f'Predicted solution (r={r[-2, 0]/150e6:.0f} au)', ls='--', c='deeppink')\n",
    "ax.loglog(T[:-1], np.expand_dims(predictions[:, :, -1].reshape((size, size))[500, :-1], axis=1)*(p[:-1]**2), label=f'Predicted solution (r={r[500, 0]/150e6:.0f} au)', ls='--', c='green')\n",
    "ax.loglog(T[:-1], np.expand_dims(predictions[:, :, -1].reshape((size, size))[0, :-1], axis=1)*(p[:-1]**2), label=f'Predicted solution (r={r[0, 0]/150e6:.1f} au)', ls='--', c='mediumblue')\n",
    "\n",
    "ax.set_xlabel(\"Kinetic Energy (GeV)\")\n",
    "ax.set_ylabel(\"Particle spectrum $J(r, T) = f(r, p) p^2$\")\n",
    "ax.set_xlim(1e-3, 1e3)\n",
    "ax.set_ylim(1e-13, 2e0)\n",
    "ax.legend(prop={'size': 12})"
   ]
  },
  {
   "cell_type": "code",
   "execution_count": null,
   "metadata": {},
   "outputs": [],
   "source": [
    "# Plot loss \n",
    "fig = plt.figure(figsize=(10, 5))\n",
    "\n",
    "plt.plot(pinn_loss, label='PINN Loss')\n",
    "plt.plot(boundary_loss, label='Boundary Loss')\n",
    "\n",
    "plt.yscale('log')\n",
    "# plt.ylim(1e-5, 1e-1)\n",
    "plt.xlabel('Epochs')\n",
    "plt.ylabel('Log(Loss)')\n",
    "plt.legend(prop={'size': 12})"
   ]
  },
  {
   "cell_type": "code",
   "execution_count": null,
   "metadata": {},
   "outputs": [],
   "source": [
    "# Visualize J(r, T) over the epochs\n",
    "for i in range(epochs):\n",
    "    if (i%(epochs/10) == 0):\n",
    "        fig, ax = plt.subplots(figsize=(10, 5))\n",
    "        \n",
    "        ax.set_title(\"Epoch \" + str(i))\n",
    "        ax.set_xlabel(\"Kinetic Energy (GeV)\")\n",
    "        ax.set_ylabel(\"Particle spectrum $J(r, T) = f(r, p) p^2$\")\n",
    "        ax.set_xlim(1e-3, 1e3)\n",
    "        ax.set_ylim(1e-13, 2e0)\n",
    "        ax.xaxis.set_minor_locator(LogLocator(base=10.0, subs='all'))\n",
    "        ax.yaxis.set_minor_locator(LogLocator(base=10.0, subs='all'))\n",
    "    \n",
    "        ax.loglog(T, J[-1, :], label=f'True solution (r={r[-1, 0]/150e6:.0f} au)', lw='3', c='gray')\n",
    "        ax.loglog(T, J[-2, :], label=f'True solution (r={r[-2, 0]/150e6:.0f} au)', lw='3', c='lightpink')\n",
    "        ax.loglog(T, J[500, :], label=f'True solution (r={r[500, 0]/150e6:.0f} au)', lw='3', c='lightgreen')\n",
    "        ax.loglog(T, J[0, :], label=f'True solution (r={r[0, 0]/150e6:.1f} au)', lw='3', c='dodgerblue')\n",
    "        ax.loglog(T[:-1], np.expand_dims(predictions[:, :, i].reshape((size, size))[-1, :-1], axis=1)*(p[:-1]**2), label=f'Predicted solution (r={r[-1, 0]/150e6:.0f} au)', ls='--', c='black')\n",
    "        ax.loglog(T[:-1], np.expand_dims(predictions[:, :, i].reshape((size, size))[-2, :-1], axis=1)*(p[:-1]**2), label=f'Predicted solution (r={r[-2, 0]/150e6:.0f} au)', ls='--', c='deeppink')\n",
    "        ax.loglog(T[:-1], np.expand_dims(predictions[:, :, i].reshape((size, size))[500, :-1], axis=1)*(p[:-1]**2), label=f'Predicted solution (r={r[500, 0]/150e6:.0f} au)', ls='--', c='green')\n",
    "        ax.loglog(T[:-1], np.expand_dims(predictions[:, :, i].reshape((size, size))[0, :-1], axis=1)*(p[:-1]**2), label=f'Predicted solution (r={r[0, 0]/150e6:.1f} au)', ls='--', c='mediumblue')\n",
    "\n",
    "        ax.legend(prop={'size': 12})"
   ]
  },
  {
   "cell_type": "code",
   "execution_count": null,
   "metadata": {},
   "outputs": [],
   "source": []
  },
  {
   "cell_type": "code",
   "execution_count": null,
   "metadata": {},
   "outputs": [],
   "source": []
  }
 ],
 "metadata": {
  "kernelspec": {
   "display_name": "pinns",
   "language": "python",
   "name": "pinns"
  },
  "language_info": {
   "codemirror_mode": {
    "name": "ipython",
    "version": 3
   },
   "file_extension": ".py",
   "mimetype": "text/x-python",
   "name": "python",
   "nbconvert_exporter": "python",
   "pygments_lexer": "ipython3",
   "version": "3.10.5"
  }
 },
 "nbformat": 4,
 "nbformat_minor": 4
}
