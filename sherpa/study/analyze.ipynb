{
 "cells": [
  {
   "cell_type": "code",
   "execution_count": 2,
   "id": "fa8a89c1-152c-4167-8876-3157de5d58e1",
   "metadata": {},
   "outputs": [],
   "source": [
    "# Imports\n",
    "import numpy as np\n",
    "import pandas as pd"
   ]
  },
  {
   "cell_type": "code",
   "execution_count": 3,
   "id": "5187d10f-bb9a-4c79-88ef-a0a4b50e2239",
   "metadata": {},
   "outputs": [],
   "source": [
    "# Read the outputs\n",
    "n_run = 40\n",
    "df = pd.read_csv('outputs/sherpa_' + str(n_run) + '.csv')"
   ]
  },
  {
   "cell_type": "code",
   "execution_count": 4,
   "id": "0e8b9d61-00eb-4a76-afa4-0ad48a32d899",
   "metadata": {},
   "outputs": [
    {
     "name": "stdout",
     "output_type": "stream",
     "text": [
      "2\n",
      "13\n"
     ]
    }
   ],
   "source": [
    "print(df['final_pinn_loss'].idxmin())\n",
    "print(df['final_boundary_loss'].idxmin())"
   ]
  },
  {
   "cell_type": "code",
   "execution_count": 15,
   "id": "99c3c562-de1c-4279-ba54-4f3085ef934b",
   "metadata": {},
   "outputs": [],
   "source": [
    "df_nan = df[df['final_boundary_loss'].isnull()]\n",
    "df_not_nan = df[df['final_boundary_loss'].notnull()]"
   ]
  },
  {
   "cell_type": "code",
   "execution_count": 21,
   "id": "edc1dbbf-acf1-46b9-9e48-939c697a7218",
   "metadata": {},
   "outputs": [
    {
     "name": "stdout",
     "output_type": "stream",
     "text": [
      "Learning rate -------------\n",
      "1     0.00300\n",
      "3     0.00030\n",
      "5     0.00300\n",
      "6     0.00300\n",
      "7     0.00003\n",
      "9     0.00030\n",
      "11    0.00030\n",
      "15    0.00300\n",
      "Name: lr, dtype: float64 0     0.000003\n",
      "2     0.000300\n",
      "4     0.000030\n",
      "8     0.000030\n",
      "10    0.000003\n",
      "12    0.000030\n",
      "13    0.000030\n",
      "14    0.000003\n",
      "Name: lr, dtype: float64\n",
      "Number of layers -------------\n",
      "1     12\n",
      "3      7\n",
      "5      6\n",
      "6     12\n",
      "7     12\n",
      "9     12\n",
      "11    13\n",
      "15     8\n",
      "Name: num_layers, dtype: int64 0      8\n",
      "2      5\n",
      "4      8\n",
      "8     12\n",
      "10     7\n",
      "12     9\n",
      "13     7\n",
      "14    12\n",
      "Name: num_layers, dtype: int64\n",
      "Number of hidden units -------------\n",
      "1     154\n",
      "3     995\n",
      "5      84\n",
      "6     534\n",
      "7     743\n",
      "9     430\n",
      "11    690\n",
      "15    465\n",
      "Name: num_hidden_units, dtype: int64 0      60\n",
      "2     154\n",
      "4     199\n",
      "8     273\n",
      "10    705\n",
      "12     49\n",
      "13     74\n",
      "14    541\n",
      "Name: num_hidden_units, dtype: int64\n"
     ]
    }
   ],
   "source": [
    "print(\"Learning rate -------------\")\n",
    "print(df_nan['lr'], df_not_nan['lr'])\n",
    "print(\"Number of layers -------------\")\n",
    "print(df_nan['num_layers'], df_not_nan['num_layers'])\n",
    "print(\"Number of hidden units -------------\")\n",
    "print(df_nan['num_hidden_units'], df_not_nan['num_hidden_units'])"
   ]
  },
  {
   "cell_type": "code",
   "execution_count": 24,
   "id": "28bf9957-95e0-41cc-9313-273366212e7d",
   "metadata": {},
   "outputs": [
    {
     "name": "stdout",
     "output_type": "stream",
     "text": [
      "Learning rate, Number of layers, Number of hidden units, num_layers*num_hidden_units\n",
      "NaN:  0.0016162499999999998 10.25 511.875 5246.71875\n",
      "Not NaN:  5.3625e-05 8.5 256.875 2183.4375\n"
     ]
    }
   ],
   "source": [
    "print(\"Learning rate, Number of layers, Number of hidden units, num_layers*num_hidden_units\")\n",
    "print(\"NaN: \", df_nan['lr'].mean(), df_nan['num_layers'].mean(), df_nan['num_hidden_units'].mean(), df_nan['num_layers'].mean()*df_nan['num_hidden_units'].mean())\n",
    "print(\"Not NaN: \", df_not_nan['lr'].mean(), df_not_nan['num_layers'].mean(), df_not_nan['num_hidden_units'].mean(), df_not_nan['num_layers'].mean()*df_not_nan['num_hidden_units'].mean())"
   ]
  },
  {
   "cell_type": "code",
   "execution_count": null,
   "id": "478b0a83-f47f-439b-b010-38b17f297a5a",
   "metadata": {},
   "outputs": [],
   "source": []
  }
 ],
 "metadata": {
  "kernelspec": {
   "display_name": "pinns",
   "language": "python",
   "name": "pinns"
  },
  "language_info": {
   "codemirror_mode": {
    "name": "ipython",
    "version": 3
   },
   "file_extension": ".py",
   "mimetype": "text/x-python",
   "name": "python",
   "nbconvert_exporter": "python",
   "pygments_lexer": "ipython3",
   "version": "3.10.5"
  }
 },
 "nbformat": 4,
 "nbformat_minor": 5
}
