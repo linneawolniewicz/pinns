{
 "cells": [
  {
   "cell_type": "code",
   "execution_count": 1,
   "id": "fa8a89c1-152c-4167-8876-3157de5d58e1",
   "metadata": {},
   "outputs": [],
   "source": [
    "# Imports\n",
    "import numpy as np\n",
    "import pandas as pd"
   ]
  },
  {
   "cell_type": "code",
   "execution_count": 2,
   "id": "5187d10f-bb9a-4c79-88ef-a0a4b50e2239",
   "metadata": {},
   "outputs": [],
   "source": [
    "# Read the outputs\n",
    "n_run = 1000\n",
    "filename = '_alphaScheduleLrSchedule'\n",
    "df = pd.read_csv('outputs/sherpa_' + str(n_run) + filename + '.csv')"
   ]
  },
  {
   "cell_type": "code",
   "execution_count": 3,
   "id": "0e8b9d61-00eb-4a76-afa4-0ad48a32d899",
   "metadata": {},
   "outputs": [
    {
     "name": "stdout",
     "output_type": "stream",
     "text": [
      "11\n",
<<<<<<< Updated upstream
      "207\n"
=======
      "80\n"
>>>>>>> Stashed changes
     ]
    }
   ],
   "source": [
    "print(df['final_pinn_loss'].idxmin())\n",
    "print(df['final_boundary_loss'].idxmin())"
   ]
  },
  {
   "cell_type": "markdown",
   "id": "0549bdb2-87d1-464c-b7cc-0d5f5a87a897",
   "metadata": {},
   "source": [
    "## NaN analysis"
   ]
  },
  {
   "cell_type": "code",
   "execution_count": 4,
   "id": "99c3c562-de1c-4279-ba54-4f3085ef934b",
   "metadata": {},
   "outputs": [
    {
     "name": "stdout",
     "output_type": "stream",
     "text": [
      "11 218\n"
     ]
    }
   ],
   "source": [
    "df_nan = df[df['final_boundary_loss'].isnull()]\n",
    "df_not_nan = df[df['final_boundary_loss'].notnull()]\n",
    "\n",
    "print(len(df_nan), len(df_not_nan))"
   ]
  },
  {
   "cell_type": "code",
   "execution_count": 8,
   "id": "c500efc0-da74-49e8-8f4d-c41888bb76ad",
   "metadata": {},
   "outputs": [
    {
     "name": "stdout",
     "output_type": "stream",
     "text": [
      "Not NaN minimum losses:\n",
      "130\n",
      "177\n"
     ]
    }
   ],
   "source": [
    "print(\"Not NaN minimum losses:\")\n",
    "print(df_not_nan['final_pinn_loss'].idxmin())\n",
    "print(df_not_nan['final_boundary_loss'].idxmin())"
   ]
  },
  {
   "cell_type": "code",
   "execution_count": 7,
   "id": "28bf9957-95e0-41cc-9313-273366212e7d",
   "metadata": {},
   "outputs": [
    {
     "name": "stdout",
     "output_type": "stream",
     "text": [
      "Learning rate, Number of hidden units\n",
      "NaN:  0.00019439400070488802 598.8181818181819\n",
      "Not NaN:  0.00015550413768011635 525.4587155963303\n"
     ]
    }
   ],
   "source": [
    "print(\"Learning rate, Number of hidden units\")\n",
    "print(\"NaN: \", df_nan['lr'].mean(), df_nan['num_hidden_units'].mean())\n",
    "print(\"Not NaN: \", df_not_nan['lr'].mean(), df_not_nan['num_hidden_units'].mean())"
   ]
  },
  {
   "cell_type": "code",
   "execution_count": null,
   "id": "478b0a83-f47f-439b-b010-38b17f297a5a",
   "metadata": {},
   "outputs": [],
   "source": []
  }
 ],
 "metadata": {
  "kernelspec": {
   "display_name": "pinns",
   "language": "python",
   "name": "pinns"
  },
  "language_info": {
   "codemirror_mode": {
    "name": "ipython",
    "version": 3
   },
   "file_extension": ".py",
   "mimetype": "text/x-python",
   "name": "python",
   "nbconvert_exporter": "python",
   "pygments_lexer": "ipython3",
   "version": "3.10.5"
  }
 },
 "nbformat": 4,
 "nbformat_minor": 5
}
