{
 "cells": [
  {
   "cell_type": "code",
   "execution_count": 1,
   "id": "fbe02957-77e4-479c-9099-5bd2dff18db0",
   "metadata": {},
   "outputs": [],
   "source": [
    "# Imports\n",
    "import pandas as pd\n",
    "import numpy as np\n",
    "from scipy import stats as st"
   ]
  },
  {
   "cell_type": "markdown",
   "id": "db2341ac-ee76-457d-8fb2-2a37eedff030",
   "metadata": {},
   "source": [
    "## Loss analysis"
   ]
  },
  {
   "cell_type": "code",
   "execution_count": 2,
   "id": "6f5e0388-1d2e-4818-a8ab-668fcdc25f17",
   "metadata": {},
   "outputs": [],
   "source": [
    "# Load output file\n",
    "filename = '_FullRAdamBeta1Sigmoid'\n",
    "n_run = 1000\n",
    "\n",
    "df = pd.read_csv('./outputs/sherpa_' + str(n_run) + filename + '.csv')\n",
    "\n",
    "df['pinn_and_boundary_loss'] = df['final_pinn_loss'] + df['final_boundary_loss']"
   ]
  },
  {
   "cell_type": "code",
   "execution_count": 3,
   "id": "28c103ed-34df-4343-b784-7c7389a20f08",
   "metadata": {},
   "outputs": [
    {
     "name": "stdout",
     "output_type": "stream",
     "text": [
      "Trial with minimum pinn loss: 0\n",
      "Trial with minimum boundary loss: 16\n",
      "Trial with minimum pinn + boundary loss: 16\n"
     ]
    }
   ],
   "source": [
    "print(f'Trial with minimum pinn loss: {df[\"final_pinn_loss\"].idxmin()}')\n",
    "print(f'Trial with minimum boundary loss: {df[\"final_boundary_loss\"].idxmin()}')\n",
    "print(f'Trial with minimum pinn + boundary loss: {df[\"pinn_and_boundary_loss\"].idxmin()}')"
   ]
  },
  {
   "cell_type": "markdown",
   "id": "3f4949c7-024d-4c76-a5d6-d89571db95cc",
   "metadata": {},
   "source": [
    "## NaN analysis"
   ]
  },
  {
   "cell_type": "code",
   "execution_count": 4,
   "id": "18cf1fc0-e179-4702-8343-9d08401a3349",
   "metadata": {},
   "outputs": [
    {
     "name": "stdout",
     "output_type": "stream",
     "text": [
      "Size of nan dataframe: 0\n"
     ]
    }
   ],
   "source": [
    "df_nan = df[df['final_boundary_loss'].isnull()]\n",
    "df_not_nan = df[df['final_boundary_loss'].notnull()]\n",
    "\n",
    "print(f'Size of nan dataframe: {len(df_nan)}')"
   ]
  },
  {
   "cell_type": "code",
   "execution_count": 5,
   "id": "082545df-89b1-4fee-89c7-1eec029ae16e",
   "metadata": {},
   "outputs": [
    {
     "name": "stdout",
     "output_type": "stream",
     "text": [
      "Learning rate, Number of hidden units\n",
      "NaN:  nan nan\n",
      "Not NaN:  0.0030000000000000005 619.3428571428572\n"
     ]
    }
   ],
   "source": [
    "print(\"Learning rate, Number of hidden units\")\n",
    "print(\"NaN: \", df_nan['lr'].mean(), df_nan['num_hidden_units'].mean())\n",
    "print(\"Not NaN: \", df_not_nan['lr'].mean(), df_not_nan['num_hidden_units'].mean())"
   ]
  },
  {
   "cell_type": "code",
   "execution_count": 6,
   "id": "bf0ff353-d285-49c0-a5f7-26e1ef78c3fe",
   "metadata": {},
   "outputs": [
    {
     "name": "stdout",
     "output_type": "stream",
     "text": [
      "Unnamed: 0:\n",
      "NaN dataframe result: ModeResult(mode=array([], dtype=float64), count=array([], dtype=float64))\n",
      "Not NaN dataframe result: ModeResult(mode=array([0]), count=array([35]))\n",
      "\n",
      "trial_id:\n",
      "NaN dataframe result: ModeResult(mode=array([], dtype=float64), count=array([], dtype=float64))\n",
      "Not NaN dataframe result: ModeResult(mode=array([0]), count=array([1]))\n",
      "\n",
      "num_layers:\n",
      "NaN dataframe result: ModeResult(mode=array([], dtype=float64), count=array([], dtype=float64))\n",
      "Not NaN dataframe result: ModeResult(mode=array([3]), count=array([21]))\n",
      "\n",
      "num_hidden_units:\n",
      "NaN dataframe result: ModeResult(mode=array([], dtype=float64), count=array([], dtype=float64))\n",
      "Not NaN dataframe result: ModeResult(mode=array([118]), count=array([1]))\n",
      "\n",
      "lr:\n",
      "NaN dataframe result: ModeResult(mode=array([], dtype=float64), count=array([], dtype=float64))\n",
      "Not NaN dataframe result: ModeResult(mode=array([0.003]), count=array([35]))\n",
      "\n",
      "alpha_schedule:\n",
      "NaN dataframe result: ModeResult(mode=array([], dtype=float64), count=array([], dtype=float64))\n",
      "Not NaN dataframe result: ModeResult(mode=array(['grow'], dtype=object), count=array([13]))\n",
      "\n",
      "r_lower:\n",
      "NaN dataframe result: ModeResult(mode=array([], dtype=float64), count=array([], dtype=float64))\n",
      "Not NaN dataframe result: ModeResult(mode=array([17.909855]), count=array([35]))\n",
      "\n",
      "batchsize:\n",
      "NaN dataframe result: ModeResult(mode=array([], dtype=float64), count=array([], dtype=float64))\n",
      "Not NaN dataframe result: ModeResult(mode=array([1024]), count=array([14]))\n",
      "\n",
      "boundary_batchsize:\n",
      "NaN dataframe result: ModeResult(mode=array([], dtype=float64), count=array([], dtype=float64))\n",
      "Not NaN dataframe result: ModeResult(mode=array([512]), count=array([20]))\n",
      "\n",
      "lr_schedule:\n",
      "NaN dataframe result: ModeResult(mode=array([], dtype=float64), count=array([], dtype=float64))\n",
      "Not NaN dataframe result: ModeResult(mode=array(['decay'], dtype=object), count=array([18]))\n",
      "\n",
      "patience:\n",
      "NaN dataframe result: ModeResult(mode=array([], dtype=float64), count=array([], dtype=float64))\n",
      "Not NaN dataframe result: ModeResult(mode=array([20]), count=array([35]))\n",
      "\n",
      "num_cycles:\n",
      "NaN dataframe result: ModeResult(mode=array([], dtype=float64), count=array([], dtype=float64))\n",
      "Not NaN dataframe result: ModeResult(mode=array([3]), count=array([35]))\n",
      "\n",
      "adam_beta1:\n",
      "NaN dataframe result: ModeResult(mode=array([], dtype=float64), count=array([], dtype=float64))\n",
      "Not NaN dataframe result: ModeResult(mode=array([0.5461219]), count=array([1]))\n",
      "\n",
      "epochs:\n",
      "NaN dataframe result: ModeResult(mode=array([], dtype=float64), count=array([], dtype=float64))\n",
      "Not NaN dataframe result: ModeResult(mode=array([100]), count=array([35]))\n",
      "\n",
      "activation:\n",
      "NaN dataframe result: ModeResult(mode=array([], dtype=float64), count=array([], dtype=float64))\n",
      "Not NaN dataframe result: ModeResult(mode=array(['selu'], dtype=object), count=array([35]))\n",
      "\n",
      "final_activation:\n",
      "NaN dataframe result: ModeResult(mode=array([], dtype=float64), count=array([], dtype=float64))\n",
      "Not NaN dataframe result: ModeResult(mode=array(['sigmoid'], dtype=object), count=array([35]))\n",
      "\n",
      "sampling_method:\n",
      "NaN dataframe result: ModeResult(mode=array([], dtype=float64), count=array([], dtype=float64))\n",
      "Not NaN dataframe result: ModeResult(mode=array(['beta_1_3'], dtype=object), count=array([13]))\n",
      "\n",
      "final_boundary_loss:\n",
      "NaN dataframe result: ModeResult(mode=array([], dtype=float64), count=array([], dtype=float64))\n",
      "Not NaN dataframe result: ModeResult(mode=array([2.07858029]), count=array([2]))\n",
      "\n",
      "final_pinn_loss:\n",
      "NaN dataframe result: ModeResult(mode=array([], dtype=float64), count=array([], dtype=float64))\n",
      "Not NaN dataframe result: ModeResult(mode=array([0.]), count=array([16]))\n",
      "\n",
      "pinn_and_boundary_loss:\n",
      "NaN dataframe result: ModeResult(mode=array([], dtype=float64), count=array([], dtype=float64))\n",
      "Not NaN dataframe result: ModeResult(mode=array([2.07858029]), count=array([2]))\n",
      "\n"
     ]
    },
    {
     "name": "stderr",
     "output_type": "stream",
     "text": [
      "/tmp/ipykernel_384922/2940579343.py:3: FutureWarning: Unlike other reduction functions (e.g. `skew`, `kurtosis`), the default behavior of `mode` typically preserves the axis it acts along. In SciPy 1.11.0, this behavior will change: the default value of `keepdims` will become False, the `axis` over which the statistic is taken will be eliminated, and the value None will no longer be accepted. Set `keepdims` to True or False to avoid this warning.\n",
      "  print(f'NaN dataframe result: {st.mode(df_nan[column].to_numpy())}')\n",
      "/tmp/ipykernel_384922/2940579343.py:4: FutureWarning: Unlike other reduction functions (e.g. `skew`, `kurtosis`), the default behavior of `mode` typically preserves the axis it acts along. In SciPy 1.11.0, this behavior will change: the default value of `keepdims` will become False, the `axis` over which the statistic is taken will be eliminated, and the value None will no longer be accepted. Set `keepdims` to True or False to avoid this warning.\n",
      "  print(f'Not NaN dataframe result: {st.mode(df_not_nan[column].to_numpy())}')\n",
      "/home/linneamw/sadow_lts/personal/linneamw/anaconda3/envs/pinns/lib/python3.10/site-packages/scipy/stats/_stats_py.py:110: RuntimeWarning: The input array could not be properly checked for nan values. nan values will be ignored.\n",
      "  warnings.warn(\"The input array could not be properly \"\n",
      "/tmp/ipykernel_384922/2940579343.py:4: DeprecationWarning: Support for non-numeric arrays has been deprecated as of SciPy 1.9.0 and will be removed in 1.11.0. `pandas.DataFrame.mode` can be used instead, see https://pandas.pydata.org/docs/reference/api/pandas.DataFrame.mode.html.\n",
      "  print(f'Not NaN dataframe result: {st.mode(df_not_nan[column].to_numpy())}')\n"
     ]
    }
   ],
   "source": [
    "for column in df.columns:\n",
    "    print(f'{column}:')\n",
    "    print(f'NaN dataframe result: {st.mode(df_nan[column].to_numpy())}')\n",
    "    print(f'Not NaN dataframe result: {st.mode(df_not_nan[column].to_numpy())}')\n",
    "    print(\"\")"
   ]
  },
  {
   "cell_type": "code",
   "execution_count": null,
   "id": "7ee62690-0ba5-4411-b7f7-8c68913bdca4",
   "metadata": {},
   "outputs": [],
   "source": []
  }
 ],
 "metadata": {
  "kernelspec": {
   "display_name": "pinns",
   "language": "python",
   "name": "pinns"
  },
  "language_info": {
   "codemirror_mode": {
    "name": "ipython",
    "version": 3
   },
   "file_extension": ".py",
   "mimetype": "text/x-python",
   "name": "python",
   "nbconvert_exporter": "python",
   "pygments_lexer": "ipython3",
   "version": "3.10.5"
  }
 },
 "nbformat": 4,
 "nbformat_minor": 5
}
