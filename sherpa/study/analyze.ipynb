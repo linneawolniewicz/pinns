{
 "cells": [
  {
   "cell_type": "code",
   "execution_count": 9,
   "id": "fbe02957-77e4-479c-9099-5bd2dff18db0",
   "metadata": {},
   "outputs": [],
   "source": [
    "# Imports\n",
    "import pandas as pd\n",
    "import numpy as np"
   ]
  },
  {
   "cell_type": "code",
   "execution_count": 10,
   "id": "6f5e0388-1d2e-4818-a8ab-668fcdc25f17",
   "metadata": {},
   "outputs": [],
   "source": [
    "# Load output file\n",
    "filename = '_alphaScheduleLrSchedule'\n",
    "n_run = 1000\n",
    "\n",
    "df = pd.read_csv('./outputs/sherpa_' + str(n_run) + filename + '.csv')"
   ]
  },
  {
   "cell_type": "code",
   "execution_count": 15,
   "id": "28c103ed-34df-4343-b784-7c7389a20f08",
   "metadata": {},
   "outputs": [
    {
     "name": "stdout",
     "output_type": "stream",
     "text": [
      "Trial with minimum pinn loss: 389\n",
      "Trial with minimum boundary loss: 207\n"
     ]
    }
   ],
   "source": [
    "print(f'Trial with minimum pinn loss: {df[\"final_pinn_loss\"].idxmin()}')\n",
    "print(f'Trial with minimum boundary loss: {df[\"final_boundary_loss\"].idxmin()}')"
   ]
  },
  {
   "cell_type": "markdown",
   "id": "3f4949c7-024d-4c76-a5d6-d89571db95cc",
   "metadata": {},
   "source": [
    "## NaN analysis"
   ]
  },
  {
   "cell_type": "code",
   "execution_count": 22,
   "id": "18cf1fc0-e179-4702-8343-9d08401a3349",
   "metadata": {},
   "outputs": [
    {
     "name": "stdout",
     "output_type": "stream",
     "text": [
      "Size of nan dataframe: 0\n"
     ]
    }
   ],
   "source": [
    "df_nan = df[df['final_boundary_loss'].isnull()]\n",
    "df_not_nan = df[df['final_boundary_loss'].notnull()]\n",
    "\n",
    "print(f'Size of nan dataframe: {len(df_nan)}')"
   ]
  },
  {
   "cell_type": "code",
   "execution_count": 18,
   "id": "0bf23ea5-1afc-4f21-9ea8-1be18c899626",
   "metadata": {},
   "outputs": [
    {
     "name": "stdout",
     "output_type": "stream",
     "text": [
      "Trial with minimum pinn loss: 389\n",
      "Trial with minimum boundary loss: 207\n"
     ]
    }
   ],
   "source": [
    "print(f'Trial with minimum pinn loss: {df_not_nan[\"final_pinn_loss\"].idxmin()}')\n",
    "print(f'Trial with minimum boundary loss: {df_not_nan[\"final_boundary_loss\"].idxmin()}')"
   ]
  },
  {
   "cell_type": "code",
   "execution_count": 19,
   "id": "082545df-89b1-4fee-89c7-1eec029ae16e",
   "metadata": {},
   "outputs": [
    {
     "name": "stdout",
     "output_type": "stream",
     "text": [
      "Learning rate, Number of hidden units\n",
      "NaN:  nan nan\n",
      "Not NaN:  0.00015511896480185734 538.2089201877934\n"
     ]
    }
   ],
   "source": [
    "print(\"Learning rate, Number of hidden units\")\n",
    "print(\"NaN: \", df_nan['lr'].mean(), df_nan['num_hidden_units'].mean())\n",
    "print(\"Not NaN: \", df_not_nan['lr'].mean(), df_not_nan['num_hidden_units'].mean())"
   ]
  },
  {
   "cell_type": "code",
   "execution_count": null,
   "id": "bf0ff353-d285-49c0-a5f7-26e1ef78c3fe",
   "metadata": {},
   "outputs": [],
   "source": []
  }
 ],
 "metadata": {
  "kernelspec": {
   "display_name": "pinns",
   "language": "python",
   "name": "pinns"
  },
  "language_info": {
   "codemirror_mode": {
    "name": "ipython",
    "version": 3
   },
   "file_extension": ".py",
   "mimetype": "text/x-python",
   "name": "python",
   "nbconvert_exporter": "python",
   "pygments_lexer": "ipython3",
   "version": "3.10.5"
  }
 },
 "nbformat": 4,
 "nbformat_minor": 5
}
