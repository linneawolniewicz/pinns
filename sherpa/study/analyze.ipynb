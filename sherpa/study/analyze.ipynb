{
 "cells": [
  {
   "cell_type": "code",
   "execution_count": 1,
   "id": "fa8a89c1-152c-4167-8876-3157de5d58e1",
   "metadata": {},
   "outputs": [],
   "source": [
    "# Imports\n",
    "import numpy as np\n",
    "import pandas as pd"
   ]
  },
  {
   "cell_type": "code",
   "execution_count": 2,
   "id": "5187d10f-bb9a-4c79-88ef-a0a4b50e2239",
   "metadata": {},
   "outputs": [],
   "source": [
    "# Read the outputs\n",
    "n_run = 200\n",
    "df = pd.read_csv('outputs/sherpa_' + str(n_run) + '.csv')"
   ]
  },
  {
   "cell_type": "code",
   "execution_count": 3,
   "id": "0e8b9d61-00eb-4a76-afa4-0ad48a32d899",
   "metadata": {},
   "outputs": [
    {
     "name": "stdout",
     "output_type": "stream",
     "text": [
      "106\n",
      "81\n"
     ]
    }
   ],
   "source": [
    "print(df['final_pinn_loss'].idxmin())\n",
    "print(df['final_boundary_loss'].idxmin())"
   ]
  },
  {
   "cell_type": "markdown",
   "id": "0549bdb2-87d1-464c-b7cc-0d5f5a87a897",
   "metadata": {},
   "source": [
    "## NaN analysis"
   ]
  },
  {
   "cell_type": "code",
   "execution_count": 8,
   "id": "99c3c562-de1c-4279-ba54-4f3085ef934b",
   "metadata": {},
   "outputs": [
    {
     "name": "stdout",
     "output_type": "stream",
     "text": [
      "0 100\n"
     ]
    }
   ],
   "source": [
    "df_nan = df[df['final_boundary_loss'].isnull()]\n",
    "df_not_nan = df[df['final_boundary_loss'].notnull()]\n",
    "\n",
    "print(len(df_nan), len(df_not_nan))"
   ]
  },
  {
   "cell_type": "code",
   "execution_count": 5,
   "id": "edc1dbbf-acf1-46b9-9e48-939c697a7218",
   "metadata": {},
   "outputs": [
    {
     "name": "stdout",
     "output_type": "stream",
     "text": [
      "Learning rate -------------\n",
      "Series([], Name: lr, dtype: float64) 0     0.000028\n",
      "1     0.000022\n",
      "2     0.000007\n",
      "3     0.000028\n",
      "4     0.000020\n",
      "        ...   \n",
      "95    0.000010\n",
      "96    0.000007\n",
      "97    0.000005\n",
      "98    0.000020\n",
      "99    0.000003\n",
      "Name: lr, Length: 100, dtype: float64\n",
      "Number of layers -------------\n",
      "Series([], Name: num_layers, dtype: int64) 0     7\n",
      "1     7\n",
      "2     3\n",
      "3     3\n",
      "4     4\n",
      "     ..\n",
      "95    7\n",
      "96    3\n",
      "97    5\n",
      "98    9\n",
      "99    7\n",
      "Name: num_layers, Length: 100, dtype: int64\n",
      "Number of hidden units -------------\n",
      "Series([], Name: num_hidden_units, dtype: int64) 0      43\n",
      "1      14\n",
      "2     236\n",
      "3     363\n",
      "4     328\n",
      "     ... \n",
      "95    376\n",
      "96    228\n",
      "97    219\n",
      "98    294\n",
      "99    351\n",
      "Name: num_hidden_units, Length: 100, dtype: int64\n"
     ]
    }
   ],
   "source": [
    "print(\"Learning rate -------------\")\n",
    "print(df_nan['lr'], df_not_nan['lr'])\n",
    "print(\"Number of layers -------------\")\n",
    "print(df_nan['num_layers'], df_not_nan['num_layers'])\n",
    "print(\"Number of hidden units -------------\")\n",
    "print(df_nan['num_hidden_units'], df_not_nan['num_hidden_units'])"
   ]
  },
  {
   "cell_type": "code",
   "execution_count": 6,
   "id": "28bf9957-95e0-41cc-9313-273366212e7d",
   "metadata": {},
   "outputs": [
    {
     "name": "stdout",
     "output_type": "stream",
     "text": [
      "Learning rate, Number of layers, Number of hidden units, num_layers*num_hidden_units\n",
      "NaN:  nan nan nan nan\n",
      "Not NaN:  1.6218812629852725e-05 5.35 265.01 1417.8034999999998\n"
     ]
    }
   ],
   "source": [
    "print(\"Learning rate, Number of layers, Number of hidden units, num_layers*num_hidden_units\")\n",
    "print(\"NaN: \", df_nan['lr'].mean(), df_nan['num_layers'].mean(), df_nan['num_hidden_units'].mean(), df_nan['num_layers'].mean()*df_nan['num_hidden_units'].mean())\n",
    "print(\"Not NaN: \", df_not_nan['lr'].mean(), df_not_nan['num_layers'].mean(), df_not_nan['num_hidden_units'].mean(), df_not_nan['num_layers'].mean()*df_not_nan['num_hidden_units'].mean())"
   ]
  },
  {
   "cell_type": "code",
   "execution_count": null,
   "id": "478b0a83-f47f-439b-b010-38b17f297a5a",
   "metadata": {},
   "outputs": [],
   "source": []
  }
 ],
 "metadata": {
  "kernelspec": {
   "display_name": "pinns",
   "language": "python",
   "name": "pinns"
  },
  "language_info": {
   "codemirror_mode": {
    "name": "ipython",
    "version": 3
   },
   "file_extension": ".py",
   "mimetype": "text/x-python",
   "name": "python",
   "nbconvert_exporter": "python",
   "pygments_lexer": "ipython3",
   "version": "3.10.5"
  }
 },
 "nbformat": 4,
 "nbformat_minor": 5
}
